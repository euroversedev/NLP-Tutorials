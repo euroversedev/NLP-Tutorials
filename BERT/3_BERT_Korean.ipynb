{
 "cells": [
  {
   "cell_type": "markdown",
   "metadata": {},
   "source": [
    "제목 : BERT 실습 - 한국어 BERT 실습 (klue/bert-base)\n",
    "학습일 : 2022-07-11   \n",
    "작성자 : [송유럽(Euro)](https://www.euroverse.dev/)  \n",
    "관련 링크 : [딥러닝을 이용한 자연어처리 입문](https://wikidocs.net/152922)\n",
    "  \n",
    "--- 설명 ---  \n",
    "klue/bert-base는 대표적인 한국어 BERT이다.\n",
    "\n",
    "--- 더 공부할 내용 ---  "
   ]
  },
  {
   "cell_type": "code",
   "execution_count": 1,
   "metadata": {},
   "outputs": [],
   "source": [
    "from transformers import TFBertForMaskedLM\n",
    "from transformers import AutoTokenizer"
   ]
  },
  {
   "cell_type": "code",
   "execution_count": 2,
   "metadata": {},
   "outputs": [
    {
     "name": "stderr",
     "output_type": "stream",
     "text": [
      "Downloading: 100%|██████████| 425/425 [00:00<00:00, 213kB/s]\n",
      "Downloading: 100%|██████████| 424M/424M [00:08<00:00, 54.9MB/s] \n",
      "Some weights of the PyTorch model were not used when initializing the TF 2.0 model TFBertForMaskedLM: ['cls.predictions.decoder.bias', 'bert.embeddings.position_ids']\n",
      "- This IS expected if you are initializing TFBertForMaskedLM from a PyTorch model trained on another task or with another architecture (e.g. initializing a TFBertForSequenceClassification model from a BertForPreTraining model).\n",
      "- This IS NOT expected if you are initializing TFBertForMaskedLM from a PyTorch model that you expect to be exactly identical (e.g. initializing a TFBertForSequenceClassification model from a BertForSequenceClassification model).\n",
      "All the weights of TFBertForMaskedLM were initialized from the PyTorch model.\n",
      "If your task is similar to the task the model of the checkpoint was trained on, you can already use TFBertForMaskedLM for predictions without further training.\n",
      "Downloading: 100%|██████████| 289/289 [00:00<00:00, 289kB/s]\n",
      "Downloading: 100%|██████████| 243k/243k [00:00<00:00, 340kB/s]  \n",
      "Downloading: 100%|██████████| 483k/483k [00:00<00:00, 501kB/s]  \n",
      "Downloading: 100%|██████████| 125/125 [00:00<00:00, 125kB/s]\n"
     ]
    }
   ],
   "source": [
    "# from_pt = True는 파이토치로 학습한 모델을 텐서플로우에서 사용하겠다는 의미\n",
    "model = TFBertForMaskedLM.from_pretrained('klue/bert-base', from_pt=True)\n",
    "tokenizer = AutoTokenizer.from_pretrained(\"klue/bert-base\")"
   ]
  },
  {
   "cell_type": "code",
   "execution_count": 3,
   "metadata": {},
   "outputs": [
    {
     "data": {
      "text/plain": [
       "[{'score': 0.8963505625724792,\n",
       "  'token': 4559,\n",
       "  'token_str': '스포츠',\n",
       "  'sequence': '축구는 정말 재미있는 스포츠 다.'},\n",
       " {'score': 0.02595759928226471,\n",
       "  'token': 568,\n",
       "  'token_str': '거',\n",
       "  'sequence': '축구는 정말 재미있는 거 다.'},\n",
       " {'score': 0.010033950209617615,\n",
       "  'token': 3682,\n",
       "  'token_str': '경기',\n",
       "  'sequence': '축구는 정말 재미있는 경기 다.'},\n",
       " {'score': 0.007924399338662624,\n",
       "  'token': 4713,\n",
       "  'token_str': '축구',\n",
       "  'sequence': '축구는 정말 재미있는 축구 다.'},\n",
       " {'score': 0.007844246923923492,\n",
       "  'token': 5845,\n",
       "  'token_str': '놀이',\n",
       "  'sequence': '축구는 정말 재미있는 놀이 다.'}]"
      ]
     },
     "execution_count": 3,
     "metadata": {},
     "output_type": "execute_result"
    }
   ],
   "source": [
    "from transformers import FillMaskPipeline\n",
    "pip = FillMaskPipeline(model=model, tokenizer=tokenizer)\n",
    "pip('축구는 정말 재미있는 [MASK]다.')"
   ]
  },
  {
   "cell_type": "code",
   "execution_count": 4,
   "metadata": {},
   "outputs": [
    {
     "data": {
      "text/plain": [
       "[{'score': 0.08608637750148773,\n",
       "  'token': 1741,\n",
       "  'token_str': '쿨',\n",
       "  'sequence': '송유럽은 정말 쿨 한 남자다.'},\n",
       " {'score': 0.047186873853206635,\n",
       "  'token': 7448,\n",
       "  'token_str': '멋진',\n",
       "  'sequence': '송유럽은 정말 멋진 한 남자다.'},\n",
       " {'score': 0.04403126984834671,\n",
       "  'token': 898,\n",
       "  'token_str': '딱',\n",
       "  'sequence': '송유럽은 정말 딱 한 남자다.'},\n",
       " {'score': 0.037558138370513916,\n",
       "  'token': 1521,\n",
       "  'token_str': '잘',\n",
       "  'sequence': '송유럽은 정말 잘 한 남자다.'},\n",
       " {'score': 0.034658633172512054,\n",
       "  'token': 5537,\n",
       "  'token_str': '완벽',\n",
       "  'sequence': '송유럽은 정말 완벽 한 남자다.'}]"
      ]
     },
     "execution_count": 4,
     "metadata": {},
     "output_type": "execute_result"
    }
   ],
   "source": [
    "pip('송유럽은 정말 [MASK]한 남자다.')"
   ]
  }
 ],
 "metadata": {
  "kernelspec": {
   "display_name": "Python 3.8.8 ('base')",
   "language": "python",
   "name": "python3"
  },
  "language_info": {
   "codemirror_mode": {
    "name": "ipython",
    "version": 3
   },
   "file_extension": ".py",
   "mimetype": "text/x-python",
   "name": "python",
   "nbconvert_exporter": "python",
   "pygments_lexer": "ipython3",
   "version": "3.8.8"
  },
  "orig_nbformat": 4,
  "vscode": {
   "interpreter": {
    "hash": "ff4f85d6e04298634172ac5d8264e7e9b556b95639fe52ebb9425c4d4cba0c9c"
   }
  }
 },
 "nbformat": 4,
 "nbformat_minor": 2
}
